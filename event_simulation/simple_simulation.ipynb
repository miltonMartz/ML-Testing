{
 "cells": [
  {
   "cell_type": "markdown",
   "metadata": {},
   "source": [
    "# Simple simulation"
   ]
  },
  {
   "cell_type": "code",
   "execution_count": 3,
   "metadata": {},
   "outputs": [],
   "source": [
    "import simpy"
   ]
  },
  {
   "cell_type": "code",
   "execution_count": 5,
   "metadata": {},
   "outputs": [],
   "source": [
    "def Clock(env, name, tick):\n",
    "     while True:\n",
    "         print(name, env.now)\n",
    "         yield env.timeout(tick)"
   ]
  },
  {
   "cell_type": "code",
   "execution_count": 7,
   "metadata": {},
   "outputs": [
    {
     "name": "stdout",
     "output_type": "stream",
     "text": [
      "fast 0\n",
      "slow 0\n",
      "fast 0.5\n",
      "slow 1\n",
      "fast 1.0\n",
      "fast 1.5\n",
      "slow 2\n",
      "fast 2.0\n",
      "fast 2.5\n",
      "slow 3\n",
      "fast 3.0\n",
      "fast 3.5\n",
      "slow 4\n",
      "fast 4.0\n",
      "fast 4.5\n"
     ]
    }
   ],
   "source": [
    "env = simpy.Environment()\n",
    "f_clock = Clock(env=env, name='fast', tick=0.5)\n",
    "s_clock = Clock(env=env, name='slow', tick=1)\n",
    "env.process(f_clock)\n",
    "env.process(s_clock)\n",
    "\n",
    "env.run(until=5)"
   ]
  },
  {
   "cell_type": "markdown",
   "metadata": {},
   "source": [
    "### Credits & Links"
   ]
  },
  {
   "cell_type": "markdown",
   "metadata": {},
   "source": [
    "https://simpy.readthedocs.io/en/latest/"
   ]
  }
 ],
 "metadata": {
  "kernelspec": {
   "display_name": "Python 3.8.1 64-bit",
   "language": "python",
   "name": "python38164bitc33de82c9da04edea88eb124459bf44a"
  },
  "language_info": {
   "codemirror_mode": {
    "name": "ipython",
    "version": 3
   },
   "file_extension": ".py",
   "mimetype": "text/x-python",
   "name": "python",
   "nbconvert_exporter": "python",
   "pygments_lexer": "ipython3",
   "version": "3.8.6"
  }
 },
 "nbformat": 4,
 "nbformat_minor": 4
}
