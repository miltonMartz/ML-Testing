{
 "cells": [
  {
   "cell_type": "markdown",
   "metadata": {},
   "source": [
    "# Sampling"
   ]
  },
  {
   "cell_type": "code",
   "execution_count": 2,
   "metadata": {},
   "outputs": [],
   "source": [
    "import numpy as np\n",
    "import random as rnd"
   ]
  },
  {
   "cell_type": "markdown",
   "metadata": {},
   "source": [
    "### From item list"
   ]
  },
  {
   "cell_type": "code",
   "execution_count": 4,
   "metadata": {},
   "outputs": [
    {
     "name": "stdout",
     "output_type": "stream",
     "text": [
      "\n",
      " Sampling with replacement: \n",
      "\n",
      "apple\n",
      "apple\n",
      "strawberry\n",
      "orange\n",
      "orange\n",
      "\n",
      " Sampling without replacement: \n",
      "\n",
      "['banana', 'orange', 'apple', 'strawberry']\n",
      "['strawberry', 'grape', 'banana', 'apple']\n",
      "['orange', 'grape', 'apple', 'strawberry']\n",
      "['apple', 'grape', 'orange', 'banana']\n",
      "['apple', 'orange', 'strawberry', 'banana']\n"
     ]
    }
   ],
   "source": [
    "items = ['apple', 'orange', 'banana', 'grape', 'strawberry']\n",
    "print('\\n Sampling with replacement: \\n')\n",
    "for _ in range(5):\n",
    "    print(rnd.choice(items))\n",
    "\n",
    "print('\\n Sampling without replacement: \\n')    \n",
    "for _ in range(5):\n",
    "    print(rnd.sample(items, 4))"
   ]
  },
  {
   "cell_type": "markdown",
   "metadata": {},
   "source": [
    "### Credits & Links"
   ]
  },
  {
   "cell_type": "markdown",
   "metadata": {},
   "source": [
    "https://realpython.com/python-random/"
   ]
  }
 ],
 "metadata": {
  "kernelspec": {
   "display_name": "Python 3",
   "language": "python",
   "name": "python3"
  },
  "language_info": {
   "codemirror_mode": {
    "name": "ipython",
    "version": 3
   },
   "file_extension": ".py",
   "mimetype": "text/x-python",
   "name": "python",
   "nbconvert_exporter": "python",
   "pygments_lexer": "ipython3",
   "version": "3.8.6"
  }
 },
 "nbformat": 4,
 "nbformat_minor": 4
}
